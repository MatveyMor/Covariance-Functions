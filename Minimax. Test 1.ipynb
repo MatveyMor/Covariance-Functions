{
 "cells": [
  {
   "cell_type": "markdown",
   "metadata": {},
   "source": [
    "Посмотрим одноразмерные ковариационные функции (для которых равномерная выборка одномерна)\n",
    "\n",
    "Попробуем апрокссимировать гауссовские процессы на основе данных ковариационных функций с помощью гауссовских процессов на основе ядер: exponential , Matern32 , Matern52 , periodic_matern32"
   ]
  },
  {
   "cell_type": "code",
   "execution_count": 44,
   "metadata": {},
   "outputs": [],
   "source": [
    "import numpy as np\n",
    "from sklearn.metrics import mean_absolute_error as MAE\n",
    "from sklearn.metrics import mean_squared_error as MSE\n",
    "import numpy as np\n",
    "import pandas as pd\n",
    "import GPy\n",
    "import matplotlib.pyplot as plt\n",
    "%matplotlib inline\n",
    "\n",
    "function_names = ['rosenbrock', 'michalewicz', 'ackley1', 'gsobol', 'michalewicz5', 'sqmichalewicz5', 'Sinusoidal', 'Gramacy']\n",
    "\n",
    "def functionDoESpecial(X, functionName):\n",
    "    x = np.array(X, copy=True)\n",
    "\n",
    "    sqr = lambda x: x**2\n",
    "\n",
    "\n",
    "    if functionName.lower() ==  'rosenbrock':\n",
    "        functionName = 'rosenbrock'\n",
    "\n",
    "        c = 2.048\n",
    "        x = c * (2 * x - 1)\n",
    "        y = np.sum((1 - x[:, :-1])**2 + \\\n",
    "                   100 * (x[:, 1:] - x[:, :-1]**2)**2, axis=1)\n",
    "\n",
    "\n",
    "    elif functionName.lower() == 'michalewicz':\n",
    "        functionName = 'michalewicz';\n",
    "\n",
    "        # rescale to 0<x<np.pi\n",
    "        x = np.pi * x\n",
    "        numberDimensions = x.shape[1]\n",
    "\n",
    "        y = 0\n",
    "        for i in range(numberDimensions):\n",
    "            y = y + np.sin(x[:, i]) * np.sin(x[:, i]**2 / np.pi)\n",
    "\n",
    "\n",
    "    elif functionName.lower() == 'ackley1':\n",
    "        functionName = 'ackley1'\n",
    "\n",
    "        x = 32.768 * (2 * x - 1)\n",
    "        numberDimensions = x.shape[1]\n",
    "        n = numberDimensions\n",
    "        a = 20\n",
    "        b = 0.2\n",
    "        c = 2 * np.pi\n",
    "        s1 = 0\n",
    "        s2 = 0\n",
    "        for i in range(numberDimensions):\n",
    "            s1 = s1 + x[:, i]**2\n",
    "            s2 = s2 + np.cos(c * x[:, i])\n",
    "\n",
    "        y = -a * np.exp(-b * np.sqrt(1.0 / n * s1)) + a + np.exp(1)\n",
    "\n",
    "    elif functionName.lower() == 'gsobol':\n",
    "        functionName = 'gSobol'\n",
    "\n",
    "        # x in [0,1]\n",
    "        numberDimensions = x.shape[1]\n",
    "        a = [4.5, 4.5, 1, 0, 1, 9, 0,9]\n",
    "        y = 1\n",
    "        for i in range(numberDimensions):\n",
    "            y = y * (np.abs(4 * x[:, i] - 2) + a[i]) / (1 + a[i])\n",
    "\n",
    "    elif functionName.lower() == 'michalewicz5':\n",
    "        functionName = 'michalewicz5'\n",
    "\n",
    "        # rescale to 0<x<np.pi\n",
    "        x = np.pi * x\n",
    "        numberDimensions = x.shape[1]\n",
    "\n",
    "        y = 0\n",
    "        for i in range(numberDimensions):\n",
    "            y = y + np.sin(x[:, i]) * np.sin(x[:, i]**2 / np.pi)\n",
    "\n",
    "    elif functionName.lower() == 'sqmichalewicz5':\n",
    "        functionName = 'sqMichalewicz5'\n",
    "\n",
    "        # rescale to 0<x<np.pi\n",
    "        x = np.pi * x\n",
    "        numberDimensions = x.shape[1]\n",
    "\n",
    "        y = 0\n",
    "        for i in range(numberDimensions):\n",
    "            y = y + np.sin(x[:, i]) * np.sin(x[:, i]**2 / np.pi)**2\n",
    "\n",
    "    elif functionName.lower() == 'rosenbrock5':\n",
    "        functionName = 'rosenbrock5'\n",
    "\n",
    "        c = 2.048\n",
    "        x = c * (2 * x - 1)\n",
    "        y = np.sum((1 - x[:, :-1])**2 + \\\n",
    "                   100 * (x[:, 1:] - x[:, :-1]**2)**2, axis=1)\n",
    "        \n",
    "    elif functionName.lower() == 'sinusoidal':\n",
    "        functionName = 'sinusoidal'\n",
    "\n",
    "        y=np.ravel(np.cos(x[:,0]) + np.sin(3*x[:,0]))\n",
    "        \n",
    "    elif functionName.lower() == 'gramacy':\n",
    "        functionName = 'gramacy'\n",
    "        y=np.ravel(np.sin(10*np.pi*x) / (2*x) + (x-1)**4)\n",
    "\n",
    "    return y"
   ]
  },
  {
   "cell_type": "code",
   "execution_count": 48,
   "metadata": {},
   "outputs": [
    {
     "data": {
      "text/plain": [
       "{'dataplot': [<matplotlib.collections.PathCollection at 0x2eb644a1320>],\n",
       " 'gpmean': [[<matplotlib.lines.Line2D at 0x2eb60ae92b0>]],\n",
       " 'gpconfidence': [<matplotlib.collections.PolyCollection at 0x2eb644a10b8>]}"
      ]
     },
     "execution_count": 48,
     "metadata": {},
     "output_type": "execute_result"
    },
    {
     "data": {
      "image/png": "[encoded data removed]",
      "text/plain": [
       "<Figure size 432x288 with 1 Axes>"
      ]
     },
     "metadata": {
      "needs_background": "light"
     },
     "output_type": "display_data"
    }
   ],
   "source": [
    "f_name = 'michalewicz5'\n",
    "a = np.random.uniform (0,1,(1,1))\n",
    "b = functionDoESpecial (a, f_name)\n",
    "for i in range (10):\n",
    "    X = np.random.uniform (0,1, (1,1))\n",
    "    y = functionDoESpecial (X, f_name) + np.random.normal(0,0.07)\n",
    "    a=np.append (a,X)\n",
    "    b=np.append (b,y)\n",
    "    \n",
    "gp_x = a.reshape(a.shape[0], 1)\n",
    "gp_y = b.reshape(b.shape[0], 1)\n",
    "kern = GPy.kern.Minimax(1, 1)\n",
    "model = GPy.models.GPRegression(gp_x, gp_y, kern)\n",
    "model.optimize()\n",
    "a = np.random.uniform (0,1,(1,1))\n",
    "xx = a.reshape(a.shape[0], 1)\n",
    "\n",
    "model.plot()"
   ]
  },
  {
   "cell_type": "markdown",
   "metadata": {},
   "source": [
    "Проведем тесты"
   ]
  },
  {
   "cell_type": "code",
   "execution_count": 32,
   "metadata": {},
   "outputs": [],
   "source": [
    "kern_name = [GPy.kern.Exponential, GPy.kern.Matern32, GPy.kern.Matern52, GPy.kern.PeriodicMatern32, GPy.kern.Minimax] #ядра гауссовских процессов\n",
    "function_names = ['michalewicz', 'ackley1', 'gsobol', 'michalewicz5', 'sqmichalewicz5', 'Sinusoidal', 'Gramacy']\n",
    "\n",
    "\n",
    "def test (f_name, k1, i1, m1, ker_name):\n",
    "#k1 - количество тестов\n",
    "#i1 - количество точек в обучающей выборке\n",
    "#m1 - количество точек для подсчёта MAE, MSE\n",
    "    MAE_exp = []\n",
    "    MSE_exp = []\n",
    "    for k in range (k1):\n",
    "        a=[]\n",
    "        b=[]\n",
    "        for i in range (i1):\n",
    "            X = np.random.uniform (0,1,(1,1))\n",
    "            y = functionDoESpecial (X, f_name)\n",
    "            a=np.append (a,X)\n",
    "            b=np.append (b,y)\n",
    "\n",
    "        gp_x = a.reshape(a.shape[0], 1)\n",
    "        gp_y = b.reshape(b.shape[0], 1)\n",
    "        kern_1 = ker_name(1)\n",
    "        model = GPy.models.GPRegression(gp_x, gp_y, kern_1)\n",
    "        model.optimize()\n",
    "        a=[]\n",
    "        b=[]\n",
    "        for i in range (m1):\n",
    "            X = np.random.uniform (0,1,(1,1))\n",
    "            y = functionDoESpecial (X, f_name)\n",
    "            a=np.append (a,X)\n",
    "            b=np.append (b,y)\n",
    "\n",
    "        gp_xx = a.reshape(a.shape[0], 1)\n",
    "        gp_yy=model.predict(gp_xx)\n",
    "        c=gp_yy[0]\n",
    "        MAE_exp=np.append(MAE_exp, MAE(b,c))\n",
    "        MSE_exp=np.append(MSE_exp, MSE(b,c))\n",
    "    return MAE_exp, MSE_exp"
   ]
  },
  {
   "cell_type": "code",
   "execution_count": 33,
   "metadata": {},
   "outputs": [
    {
     "name": "stdout",
     "output_type": "stream",
     "text": [
      "0\n",
      "1\n",
      "2\n",
      "3\n",
      "4\n",
      "5\n",
      "6\n"
     ]
    }
   ],
   "source": [
    "import warnings\n",
    "warnings.filterwarnings('ignore')\n",
    "\n",
    "d1 = pd.DataFrame(columns=['Name','MSE_exp', 'MSE_mt32', 'MSE_mt52',  'MSE_pmt32', 'MSE_Minimax'])\n",
    "d2 = pd.DataFrame(columns=['Name','MAE_exp', 'MAE_mt32', 'MAE_mt52',  'MAE_pmt32', 'MAE_Minimax'])\n",
    "\n",
    "i=0\n",
    "for k in range (7):\n",
    "    for f_name in function_names:\n",
    "        MSE_error=[f_name+str(k)]\n",
    "        MAE_error=[f_name+str(k)]\n",
    "        for ker_name in kern_name:\n",
    "            text = test (f_name, 50, 30+ k*5,100, ker_name)\n",
    "            MAE_1 = text[0]\n",
    "            MSE_1 = text[1]\n",
    "            MAE_=round(np.mean (MAE_1),6)\n",
    "            MSE_=round(np.mean (MSE_1),6)\n",
    "            MSE_error = np.append (MSE_error,MSE_)\n",
    "            MAE_error = np.append (MAE_error,MAE_)\n",
    "        d1.loc[i] = MSE_error\n",
    "        d2.loc[i] = MAE_error\n",
    "        i=i+1\n",
    "    print (k)"
   ]
  },
  {
   "cell_type": "code",
   "execution_count": 34,
   "metadata": {},
   "outputs": [
    {
     "name": "stdout",
     "output_type": "stream",
     "text": [
      "               Name   MAE_exp  MAE_mt32  MAE_mt52 MAE_pmt32 MAE_Minimax\n",
      "0      michalewicz0  0.006445  0.000926  0.000847  0.000111     8.2e-05\n",
      "1          ackley10  0.285434  1.523195  3.053864  3.669482    1.745035\n",
      "2           gsobol0   0.00271  0.000655  0.000866  0.007389    0.009383\n",
      "3     michalewicz50  0.009207  0.004533  0.000631   9.5e-05     8.5e-05\n",
      "4   sqmichalewicz50  0.007731  0.001531  0.000755  0.000338    0.001492\n",
      "5       Sinusoidal0  0.009866   0.00064   8.6e-05     1e-05     1.3e-05\n",
      "6          Gramacy0  0.637784  0.260325  0.584573  1.008936    0.455549\n",
      "7      michalewicz1  0.005648  0.000998  0.000267   8.4e-05     6.5e-05\n",
      "8          ackley11   0.23866  0.944238  3.157604  3.459895    1.138962\n",
      "9           gsobol1  0.001685  0.000713  0.000725  0.004077    0.009122\n",
      "10    michalewicz51  0.005406  0.001255  0.000612   6.8e-05     7.2e-05\n",
      "11  sqmichalewicz51  0.005599  0.000865  0.000107    0.0002    0.000245\n",
      "12      Sinusoidal1  0.006998  0.000336   4.4e-05     7e-06       1e-05\n",
      "13         Gramacy1   0.39345  0.278965  0.345665  0.757157    0.488713\n",
      "14     michalewicz2  0.003482  0.000669  0.000203   6.2e-05     5.9e-05\n",
      "15         ackley12   0.18404  0.422352  2.549879  3.478766    1.185732\n",
      "16          gsobol2  0.000791  0.000414  0.000493  0.004794    0.008532\n",
      "17    michalewicz52  0.003873  0.000677  0.000289   7.3e-05     4.8e-05\n",
      "18  sqmichalewicz52   0.00405  0.000341     8e-05   0.00035    0.000137\n",
      "19      Sinusoidal2  0.004574   9.4e-05   6.9e-05     9e-06     1.1e-05\n",
      "20         Gramacy2  0.336734  0.401925  0.433772  0.707591    0.293528\n",
      "21     michalewicz3  0.002779  0.000586  0.000161   7.6e-05       4e-05\n",
      "22         ackley13  0.166236   0.14589  1.970002  3.201287    0.863888\n",
      "23          gsobol3  0.000895  0.000288  0.000486  0.003647    0.005251\n",
      "24    michalewicz53  0.003242  0.000378  0.000222   4.4e-05     3.6e-05\n",
      "25  sqmichalewicz53  0.005091  0.000336   4.2e-05  0.000148    0.000189\n",
      "26      Sinusoidal3  0.004053  0.000188   3.7e-05     6e-06       9e-06\n",
      "27         Gramacy3   0.28252  0.145669  0.186313  0.504422    0.325718\n",
      "28     michalewicz4  0.002839  0.000357   8.3e-05   3.5e-05     4.4e-05\n",
      "29         ackley14  0.135444  0.073437  1.269967  3.185766    0.647895\n",
      "30          gsobol4  0.000813  0.000208  0.000313  0.003091    0.004459\n",
      "31    michalewicz54  0.002406  0.000376  0.000127   2.9e-05     2.2e-05\n",
      "32  sqmichalewicz54  0.002853   9.5e-05   5.8e-05  0.000276    0.000216\n",
      "33      Sinusoidal4  0.003713   5.4e-05   1.7e-05     5e-06       7e-06\n",
      "34         Gramacy4  0.255828  0.139798  0.247859  0.516392    0.260568\n",
      "35     michalewicz5  0.002194  0.000407   7.4e-05   3.2e-05     2.3e-05\n",
      "36         ackley15  0.105353  0.062801  0.696801  3.007793    0.647627\n",
      "37          gsobol5  0.000721  0.000185  0.000337  0.002879    0.004379\n",
      "38    michalewicz55  0.001961  0.000304     7e-05   2.6e-05     2.9e-05\n",
      "39  sqmichalewicz55  0.002332  0.000239  0.000177  0.000312     3.7e-05\n",
      "40      Sinusoidal5  0.002633   3.6e-05   2.3e-05     4e-06       6e-06\n",
      "41         Gramacy5  0.150581  0.150429  0.124455   0.48681    0.341213\n",
      "42     michalewicz6  0.001606  0.000244  0.000112   2.3e-05     2.2e-05\n",
      "43         ackley16  0.087081  0.069241  0.351377  2.602637    0.499913\n",
      "44          gsobol6  0.000528  0.000154  0.000245  0.002656    0.005313\n",
      "45    michalewicz56  0.001911  0.000108   3.2e-05   2.3e-05     2.1e-05\n",
      "46  sqmichalewicz56  0.002359  0.000267   3.2e-05   8.5e-05    0.000157\n",
      "47      Sinusoidal6  0.002768   4.3e-05   1.9e-05     4e-06       6e-06\n",
      "48         Gramacy6  0.142014  0.039915  0.069481  0.404449     0.27373\n"
     ]
    }
   ],
   "source": [
    "print (d2)"
   ]
  },
  {
   "cell_type": "code",
   "execution_count": 43,
   "metadata": {},
   "outputs": [],
   "source": [
    "d1.to_csv('example.csv', sep='\\t')"
   ]
  },
  {
   "cell_type": "markdown",
   "metadata": {},
   "source": [
    "Посмотрим на кривые Долана-Мора\n",
    "\n",
    "По определению, по оси абцисс данных графиков откладывается величина p равная отношению ошибки рассматриваемого (i-го) аппроксиматора к минимальной ошибке среди всех методов на конкретной задаче.\n",
    "По оси ординат откладывается доля задач, на которых ошибка метода, нормированная на минимальное значение ошибки среди всех методов, не превосходит величины p."
   ]
  },
  {
   "cell_type": "code",
   "execution_count": 46,
   "metadata": {},
   "outputs": [],
   "source": [
    "Names = ['MAE_exp', 'MAE_mt32', 'MAE_mt52', 'MAE_pmt32', 'MAE_Minimax']"
   ]
  },
  {
   "cell_type": "code",
   "execution_count": 47,
   "metadata": {},
   "outputs": [
    {
     "name": "stdout",
     "output_type": "stream",
     "text": [
      "\n",
      "\n",
      "\n",
      "\n",
      "\n"
     ]
    },
    {
     "data": {
      "image/png": "[encoded data removed]",
      "text/plain": [
       "<Figure size 864x432 with 1 Axes>"
      ]
     },
     "metadata": {
      "needs_background": "light"
     },
     "output_type": "display_data"
    }
   ],
   "source": [
    "import pylab\n",
    "plt.figure(figsize=(12, 6))\n",
    "\n",
    "for name in Names:\n",
    "    x=[]\n",
    "    for i in range(35):\n",
    "        x=np.append(x,float(d2[name][i]) / float(d2.iloc[i].min()))\n",
    "    y=[]\n",
    "    x=sorted(x)\n",
    "    for ab in x:\n",
    "        m=0\n",
    "        for i in range(35):\n",
    "            if (float(d2[name][i]) / float((d2.min()).min())) < ab:\n",
    "                m=m+1\n",
    "        y=np.append (y,m)\n",
    "    y=y/35\n",
    "    plt.plot (x,y, label = name)\n",
    "    plt.legend()\n",
    "    print ('')\n",
    "plt.xlim(0,20)\n",
    "plt.grid()\n",
    "pylab.savefig('foo1.png')"
   ]
  },
  {
   "cell_type": "code",
   "execution_count": null,
   "metadata": {},
   "outputs": [],
   "source": []
  }
 ],
 "metadata": {
  "kernelspec": {
   "display_name": "Python 3",
   "language": "python",
   "name": "python3"
  },
  "language_info": {
   "codemirror_mode": {
    "name": "ipython",
    "version": 3
   },
   "file_extension": ".py",
   "mimetype": "text/x-python",
   "name": "python",
   "nbconvert_exporter": "python",
   "pygments_lexer": "ipython3",
   "version": "3.7.1"
  }
 },
 "nbformat": 4,
 "nbformat_minor": 2
}
