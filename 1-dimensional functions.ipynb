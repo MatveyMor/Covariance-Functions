{
 "cells": [
  {
   "cell_type": "markdown",
   "metadata": {},
   "source": [
    "Посмотрим одноразмерные ковариационные функции (для которых равномерная выборка одномерна)\n",
    "\n",
    "Попробуем апрокссимировать гауссовские процессы на основе данных ковариационных функций с помощью гауссовских процессов на основе ядер: exponential , Matern32 , Matern52 , periodic_matern32"
   ]
  },
  {
   "cell_type": "code",
   "execution_count": 1,
   "metadata": {},
   "outputs": [],
   "source": [
    "import numpy as np\n",
    "\n",
    "function_names = ['rosenbrock', 'michalewicz', 'ackley1', 'gsobol', 'michalewicz5', 'sqmichalewicz5', 'Sinusoidal', 'Gramacy']\n",
    "\n",
    "def functionDoESpecial(X, functionName):\n",
    "    x = np.array(X, copy=True)\n",
    "\n",
    "    sqr = lambda x: x**2\n",
    "\n",
    "\n",
    "    if functionName.lower() ==  'rosenbrock':\n",
    "        functionName = 'rosenbrock'\n",
    "\n",
    "        c = 2.048\n",
    "        x = c * (2 * x - 1)\n",
    "        y = np.sum((1 - x[:, :-1])**2 + \\\n",
    "                   100 * (x[:, 1:] - x[:, :-1]**2)**2, axis=1)\n",
    "\n",
    "\n",
    "    elif functionName.lower() == 'michalewicz':\n",
    "        functionName = 'michalewicz';\n",
    "\n",
    "        # rescale to 0<x<np.pi\n",
    "        x = np.pi * x\n",
    "        numberDimensions = x.shape[1]\n",
    "\n",
    "        y = 0\n",
    "        for i in range(numberDimensions):\n",
    "            y = y + np.sin(x[:, i]) * np.sin(x[:, i]**2 / np.pi)\n",
    "\n",
    "\n",
    "    elif functionName.lower() == 'ackley1':\n",
    "        functionName = 'ackley1'\n",
    "\n",
    "        x = 32.768 * (2 * x - 1)\n",
    "        numberDimensions = x.shape[1]\n",
    "        n = numberDimensions\n",
    "        a = 20\n",
    "        b = 0.2\n",
    "        c = 2 * np.pi\n",
    "        s1 = 0\n",
    "        s2 = 0\n",
    "        for i in range(numberDimensions):\n",
    "            s1 = s1 + x[:, i]**2\n",
    "            s2 = s2 + np.cos(c * x[:, i])\n",
    "\n",
    "        y = -a * np.exp(-b * np.sqrt(1.0 / n * s1)) + a + np.exp(1)\n",
    "\n",
    "    elif functionName.lower() == 'gsobol':\n",
    "        functionName = 'gSobol'\n",
    "\n",
    "        # x in [0,1]\n",
    "        numberDimensions = x.shape[1]\n",
    "        a = [4.5, 4.5, 1, 0, 1, 9, 0,9]\n",
    "        y = 1\n",
    "        for i in range(numberDimensions):\n",
    "            y = y * (np.abs(4 * x[:, i] - 2) + a[i]) / (1 + a[i])\n",
    "\n",
    "    elif functionName.lower() == 'michalewicz5':\n",
    "        functionName = 'michalewicz5'\n",
    "\n",
    "        # rescale to 0<x<np.pi\n",
    "        x = np.pi * x\n",
    "        numberDimensions = x.shape[1]\n",
    "\n",
    "        y = 0\n",
    "        for i in range(numberDimensions):\n",
    "            y = y + np.sin(x[:, i]) * np.sin(x[:, i]**2 / np.pi)\n",
    "\n",
    "    elif functionName.lower() == 'sqmichalewicz5':\n",
    "        functionName = 'sqMichalewicz5'\n",
    "\n",
    "        # rescale to 0<x<np.pi\n",
    "        x = np.pi * x\n",
    "        numberDimensions = x.shape[1]\n",
    "\n",
    "        y = 0\n",
    "        for i in range(numberDimensions):\n",
    "            y = y + np.sin(x[:, i]) * np.sin(x[:, i]**2 / np.pi)**2\n",
    "\n",
    "    elif functionName.lower() == 'rosenbrock5':\n",
    "        functionName = 'rosenbrock5'\n",
    "\n",
    "        c = 2.048\n",
    "        x = c * (2 * x - 1)\n",
    "        y = np.sum((1 - x[:, :-1])**2 + \\\n",
    "                   100 * (x[:, 1:] - x[:, :-1]**2)**2, axis=1)\n",
    "        \n",
    "    elif functionName.lower() == 'sinusoidal':\n",
    "        functionName = 'sinusoidal'\n",
    "\n",
    "        y=np.ravel(np.cos(x[:,0]) + np.sin(3*x[:,0]))\n",
    "        \n",
    "    elif functionName.lower() == 'gramacy':\n",
    "        functionName = 'gramacy'\n",
    "        y=np.ravel(np.sin(10*np.pi*x) / (2*x) + (x-1)**4)\n",
    "\n",
    "    return y"
   ]
  },
  {
   "cell_type": "code",
   "execution_count": 2,
   "metadata": {},
   "outputs": [
    {
     "data": {
      "image/png": "[encoded data removed]",
      "text/plain": [
       "<Figure size 720x432 with 1 Axes>"
      ]
     },
     "metadata": {
      "needs_background": "light"
     },
     "output_type": "display_data"
    }
   ],
   "source": [
    "from sklearn.metrics import mean_absolute_error as MAE\n",
    "from sklearn.metrics import mean_squared_error as MSE\n",
    "import numpy as np\n",
    "import pandas as pd\n",
    "import GPy\n",
    "import matplotlib.pyplot as plt\n",
    "%matplotlib inline\n",
    "\n",
    "f_name = 'ackley1'\n",
    "#Генерирую гауссовский процесс на основе данной ковариационной функции\n",
    "a=[]\n",
    "b=[]\n",
    "for i in range (100):\n",
    "    X = np.random.uniform (0,1,(1,1))\n",
    "    y = functionDoESpecial (X, f_name)\n",
    "    a=np.append (a,X)\n",
    "    b=np.append (b,y)\n",
    "\n",
    "    \n",
    "import matplotlib.pyplot as plt\n",
    "%matplotlib inline\n",
    "\n",
    "fig, ax = plt.subplots(figsize=[10, 6])\n",
    "plt.scatter(a, b, color = 'blue', marker='o', label=\"\")\n",
    "ax.grid(True)\n",
    "plt.show()"
   ]
  },
  {
   "cell_type": "code",
   "execution_count": 3,
   "metadata": {},
   "outputs": [
    {
     "data": {
      "image/png": "[encoded data removed]",
      "text/plain": [
       "<Figure size 720x432 with 1 Axes>"
      ]
     },
     "metadata": {
      "needs_background": "light"
     },
     "output_type": "display_data"
    }
   ],
   "source": [
    "f_name = 'rosenbrock'\n",
    "#Генерирую гауссовский процесс на основе данной ковариационной функции\n",
    "a=[]\n",
    "b=[]\n",
    "for i in range (100):\n",
    "    X = np.random.uniform (0,1,(1,1))\n",
    "    y = functionDoESpecial (X, f_name)\n",
    "    a=np.append (a,X)\n",
    "    b=np.append (b,y)\n",
    "\n",
    "    \n",
    "import matplotlib.pyplot as plt\n",
    "%matplotlib inline\n",
    "\n",
    "fig, ax = plt.subplots(figsize=[10, 6])\n",
    "plt.scatter(a, b, color = 'blue', marker='o', label=\"\")\n",
    "ax.grid(True)\n",
    "plt.show()"
   ]
  },
  {
   "cell_type": "code",
   "execution_count": 4,
   "metadata": {},
   "outputs": [
    {
     "data": {
      "image/png": "[encoded data removed]",
      "text/plain": [
       "<Figure size 720x432 with 1 Axes>"
      ]
     },
     "metadata": {
      "needs_background": "light"
     },
     "output_type": "display_data"
    }
   ],
   "source": [
    "f_name = 'michalewicz'\n",
    "#Генерирую гауссовский процесс на основе данной ковариационной функции\n",
    "a=[]\n",
    "b=[]\n",
    "for i in range (100):\n",
    "    X = np.random.uniform (0,1,(1,1))\n",
    "    y = functionDoESpecial (X, f_name)\n",
    "    a=np.append (a,X)\n",
    "    b=np.append (b,y)\n",
    "\n",
    "    \n",
    "import matplotlib.pyplot as plt\n",
    "%matplotlib inline\n",
    "\n",
    "fig, ax = plt.subplots(figsize=[10, 6])\n",
    "plt.scatter(a, b, color = 'blue', marker='o', label=\"\")\n",
    "ax.grid(True)\n",
    "plt.show()"
   ]
  },
  {
   "cell_type": "code",
   "execution_count": 5,
   "metadata": {},
   "outputs": [
    {
     "data": {
      "image/png": "[encoded data removed]",
      "text/plain": [
       "<Figure size 720x432 with 1 Axes>"
      ]
     },
     "metadata": {
      "needs_background": "light"
     },
     "output_type": "display_data"
    }
   ],
   "source": [
    "f_name = 'michalewicz5'\n",
    "#Генерирую гауссовский процесс на основе данной ковариационной функции\n",
    "a=[]\n",
    "b=[]\n",
    "for i in range (100):\n",
    "    X = np.random.uniform (0,1,(1,1))\n",
    "    y = functionDoESpecial (X, f_name)\n",
    "    a=np.append (a,X)\n",
    "    b=np.append (b,y)\n",
    "\n",
    "    \n",
    "import matplotlib.pyplot as plt\n",
    "%matplotlib inline\n",
    "\n",
    "fig, ax = plt.subplots(figsize=[10, 6])\n",
    "plt.scatter(a, b, color = 'blue', marker='o', label=\"\")\n",
    "ax.grid(True)\n",
    "plt.show()"
   ]
  },
  {
   "cell_type": "code",
   "execution_count": 6,
   "metadata": {},
   "outputs": [
    {
     "data": {
      "image/png": "[encoded data removed]",
      "text/plain": [
       "<Figure size 720x432 with 1 Axes>"
      ]
     },
     "metadata": {
      "needs_background": "light"
     },
     "output_type": "display_data"
    }
   ],
   "source": [
    "f_name = 'sqmichalewicz5'\n",
    "#Генерирую гауссовский процесс на основе данной ковариационной функции\n",
    "a=[]\n",
    "b=[]\n",
    "for i in range (100):\n",
    "    X = np.random.uniform (0,1,(1,1))\n",
    "    y = functionDoESpecial (X, f_name)\n",
    "    a=np.append (a,X)\n",
    "    b=np.append (b,y)\n",
    "\n",
    "    \n",
    "import matplotlib.pyplot as plt\n",
    "%matplotlib inline\n",
    "\n",
    "fig, ax = plt.subplots(figsize=[10, 6])\n",
    "plt.scatter(a, b, color = 'blue', marker='o', label=\"\")\n",
    "ax.grid(True)\n",
    "plt.show()"
   ]
  },
  {
   "cell_type": "code",
   "execution_count": 7,
   "metadata": {},
   "outputs": [
    {
     "data": {
      "image/png": "[encoded data removed]",
      "text/plain": [
       "<Figure size 720x432 with 1 Axes>"
      ]
     },
     "metadata": {
      "needs_background": "light"
     },
     "output_type": "display_data"
    }
   ],
   "source": [
    "f_name = 'gsobol'\n",
    "#Генерирую гауссовский процесс на основе данной ковариационной функции\n",
    "a=[]\n",
    "b=[]\n",
    "for i in range (100):\n",
    "    X = np.random.uniform (0,1,(1,1))\n",
    "    y = functionDoESpecial (X, f_name)\n",
    "    a=np.append (a,X)\n",
    "    b=np.append (b,y)\n",
    "\n",
    "    \n",
    "import matplotlib.pyplot as plt\n",
    "%matplotlib inline\n",
    "\n",
    "fig, ax = plt.subplots(figsize=[10, 6])\n",
    "plt.scatter(a, b, color = 'blue', marker='o', label=\"\")\n",
    "ax.grid(True)\n",
    "plt.show()"
   ]
  },
  {
   "cell_type": "code",
   "execution_count": 8,
   "metadata": {},
   "outputs": [
    {
     "data": {
      "image/png": "[encoded data removed]",
      "text/plain": [
       "<Figure size 720x432 with 1 Axes>"
      ]
     },
     "metadata": {
      "needs_background": "light"
     },
     "output_type": "display_data"
    }
   ],
   "source": [
    "f_name = 'sinusoidal'\n",
    "#Генерирую гауссовский процесс на основе данной ковариационной функции\n",
    "a=[]\n",
    "b=[]\n",
    "for i in range (200):\n",
    "    x = np.random.uniform (0,1,(1,1))\n",
    "    y = functionDoESpecial (x, f_name)\n",
    "    a=np.append (a,x)\n",
    "    b=np.append (b,y)\n",
    "\n",
    "    \n",
    "import matplotlib.pyplot as plt\n",
    "%matplotlib inline\n",
    "\n",
    "fig, ax = plt.subplots(figsize=[10, 6])\n",
    "plt.scatter(a, b, color = 'blue', marker='o', label=\"\")\n",
    "ax.grid(True)\n",
    "plt.show()"
   ]
  },
  {
   "cell_type": "code",
   "execution_count": 9,
   "metadata": {},
   "outputs": [
    {
     "data": {
      "image/png": "[encoded data removed]",
      "text/plain": [
       "<Figure size 720x432 with 1 Axes>"
      ]
     },
     "metadata": {
      "needs_background": "light"
     },
     "output_type": "display_data"
    }
   ],
   "source": [
    "f_name = 'gramacy'\n",
    "#Генерирую гауссовский процесс на основе данной ковариационной функции\n",
    "a=[]\n",
    "b=[]\n",
    "for i in range (200):\n",
    "    x = np.random.uniform (0,1,(1,1))\n",
    "    y = functionDoESpecial (x, f_name)\n",
    "    a=np.append (a,x)\n",
    "    b=np.append (b,y)\n",
    "\n",
    "    \n",
    "import matplotlib.pyplot as plt\n",
    "%matplotlib inline\n",
    "\n",
    "fig, ax = plt.subplots(figsize=[10, 6])\n",
    "plt.scatter(a, b, color = 'blue', marker='o', label=\"\")\n",
    "ax.grid(True)\n",
    "plt.show()"
   ]
  },
  {
   "cell_type": "markdown",
   "metadata": {},
   "source": [
    "Проведём тесты c экспоненциальным ядром"
   ]
  },
  {
   "cell_type": "code",
   "execution_count": 31,
   "metadata": {},
   "outputs": [],
   "source": [
    "def test (f_name, k1, i1, m1):\n",
    "#k1 - количество тестов\n",
    "#i1 - количество точек в обучающей выборке\n",
    "#m1 - количество точек для подсчёта MAE, MSE\n",
    "    MAE_exp = []\n",
    "    MSE_exp = []\n",
    "    for k in range (k1):\n",
    "        a=[]\n",
    "        b=[]\n",
    "        for i in range (i1):\n",
    "            X = np.random.uniform (0,1,(1,1))\n",
    "            y = functionDoESpecial (X, f_name)\n",
    "            a=np.append (a,X)\n",
    "            b=np.append (b,y)\n",
    "\n",
    "        gp_x = a.reshape(a.shape[0], 1)\n",
    "        gp_y = b.reshape(b.shape[0], 1)\n",
    "        kern_1 = GPy.kern.Exponential(1)\n",
    "        model = GPy.models.GPRegression(gp_x, gp_y, kern_1)\n",
    "        model.optimize()\n",
    "        a=[]\n",
    "        b=[]\n",
    "        for i in range (m1):\n",
    "            X = np.random.uniform (0,1,(1,1))\n",
    "            y = functionDoESpecial (X, f_name)\n",
    "            a=np.append (a,X)\n",
    "            b=np.append (b,y)\n",
    "\n",
    "        gp_xx = a.reshape(a.shape[0], 1)\n",
    "        gp_yy=model.predict(gp_xx)\n",
    "        c=gp_yy[0]\n",
    "        MAE_exp=np.append(MAE_exp, MAE(b,c))\n",
    "        MSE_exp=np.append(MSE_exp, MSE(b,c))\n",
    "    return MAE_exp, MSE_exp"
   ]
  },
  {
   "cell_type": "code",
   "execution_count": 32,
   "metadata": {},
   "outputs": [],
   "source": [
    "MSE_exp1=[]\n",
    "MAE_exp1=[]\n",
    "MSE_exp3=[]\n",
    "MSE_exp3=[]\n",
    "for f_name in function_names:\n",
    "    text = test (f_name, 100, 30,30)\n",
    "    MAE_exp3 = text[0]\n",
    "    MSE_exp3 = text[1]\n",
    "    MAE_exp_2=round(np.mean (MAE_exp3),6)\n",
    "    MSE_exp_2=round(np.mean (MSE_exp3),6)\n",
    "    MSE_exp1 = np.append (MSE_exp1,MSE_exp_2)\n",
    "    MAE_exp1 = np.append (MAE_exp1,MAE_exp_2)"
   ]
  },
  {
   "cell_type": "code",
   "execution_count": 13,
   "metadata": {},
   "outputs": [
    {
     "name": "stdout",
     "output_type": "stream",
     "text": [
      "0.278902581617784\n",
      "0.7985227681699374\n"
     ]
    }
   ],
   "source": [
    "text_ackley = test ('ackley1', 200, 30,30)\n",
    "MAE_exp = text_ackley[0]\n",
    "MSE_exp = text_ackley[1]\n",
    "d2 = {\"MAE\":(MAE_exp), \"MSE\": (MSE_exp)}\n",
    "df2 = pd.DataFrame(d2)\n",
    "print (np.mean(MAE_exp))\n",
    "print (np.mean(MSE_exp))"
   ]
  },
  {
   "cell_type": "code",
   "execution_count": 14,
   "metadata": {},
   "outputs": [
    {
     "name": "stdout",
     "output_type": "stream",
     "text": [
      "0.0\n",
      "0.0\n"
     ]
    }
   ],
   "source": [
    "text = test ('rosenbrock', 200, 30,30)\n",
    "MAE_exp = text[0]\n",
    "MSE_exp = text[1]\n",
    "d2 = {\"MAE\":(MAE_exp), \"MSE\": (MSE_exp)}\n",
    "df3 = pd.DataFrame(d2)\n",
    "print (np.mean(MAE_exp))\n",
    "print (np.mean(MSE_exp))"
   ]
  },
  {
   "cell_type": "code",
   "execution_count": 15,
   "metadata": {},
   "outputs": [
    {
     "name": "stdout",
     "output_type": "stream",
     "text": [
      "0.00623422689117488\n",
      "0.0002660353413084807\n"
     ]
    }
   ],
   "source": [
    "text = test ('michalewicz', 200, 30, 30)\n",
    "MAE_exp = text[0]\n",
    "MSE_exp = text[1]\n",
    "d2 = {\"MAE\":(MAE_exp), \"MSE\": (MSE_exp)}\n",
    "df4 = pd.DataFrame(d2)\n",
    "print (np.mean(MAE_exp))\n",
    "print (np.mean(MSE_exp))"
   ]
  },
  {
   "cell_type": "code",
   "execution_count": 16,
   "metadata": {},
   "outputs": [
    {
     "name": "stdout",
     "output_type": "stream",
     "text": [
      "0.00731500548943171\n",
      "0.0004185253828466338\n"
     ]
    }
   ],
   "source": [
    "text = test ('michalewicz5', 200, 30, 30)\n",
    "MAE_exp = text[0]\n",
    "MSE_exp = text[1]\n",
    "d2 = {\"MAE\":(MAE_exp), \"MSE\": (MSE_exp)}\n",
    "df5 = pd.DataFrame(d2)\n",
    "print (np.mean(MAE_exp))\n",
    "print (np.mean(MSE_exp))"
   ]
  },
  {
   "cell_type": "code",
   "execution_count": 17,
   "metadata": {},
   "outputs": [
    {
     "name": "stdout",
     "output_type": "stream",
     "text": [
      "0.00816131460969763\n",
      "0.00048001925947839156\n"
     ]
    }
   ],
   "source": [
    "text = test ('sqmichalewicz5', 200, 30, 10)\n",
    "MAE_exp = text[0]\n",
    "MSE_exp = text[1]\n",
    "d2 = {\"MAE\":(MAE_exp), \"MSE\": (MSE_exp)}\n",
    "df5 = pd.DataFrame(d2)\n",
    "print (np.mean(MAE_exp))\n",
    "print (np.mean(MSE_exp))"
   ]
  },
  {
   "cell_type": "code",
   "execution_count": 18,
   "metadata": {},
   "outputs": [
    {
     "name": "stdout",
     "output_type": "stream",
     "text": [
      "0.0022523522052849704\n",
      "9.611002741579334e-05\n"
     ]
    }
   ],
   "source": [
    "text = test ('gsobol', 200, 30, 30)\n",
    "MAE_exp = text[0]\n",
    "MSE_exp = text[1]\n",
    "d2 = {\"MAE\":(MAE_exp), \"MSE\": (MSE_exp)}\n",
    "df5 = pd.DataFrame(d2)\n",
    "print (np.mean(MAE_exp))\n",
    "print (np.mean(MSE_exp))"
   ]
  },
  {
   "cell_type": "code",
   "execution_count": 19,
   "metadata": {},
   "outputs": [
    {
     "name": "stdout",
     "output_type": "stream",
     "text": [
      "0.010511011513673743\n",
      "0.0015178044327896884\n"
     ]
    }
   ],
   "source": [
    "text = test ('sinusoidal', 200, 30, 30)\n",
    "MAE_exp = text[0]\n",
    "MSE_exp = text[1]\n",
    "d2 = {\"MAE\":(MAE_exp), \"MSE\": (MSE_exp)}\n",
    "df5 = pd.DataFrame(d2)\n",
    "print (np.mean(MAE_exp))\n",
    "print (np.mean(MSE_exp))"
   ]
  },
  {
   "cell_type": "code",
   "execution_count": 20,
   "metadata": {},
   "outputs": [
    {
     "name": "stdout",
     "output_type": "stream",
     "text": [
      "0.5194843633418528\n",
      "2.529551890278802\n"
     ]
    }
   ],
   "source": [
    "text = test ('gramacy', 200, 30, 30)\n",
    "MAE_exp = text[0]\n",
    "MSE_exp = text[1]\n",
    "d2 = {\"MAE\":(MAE_exp), \"MSE\": (MSE_exp)}\n",
    "df5 = pd.DataFrame(d2)\n",
    "print (np.mean(MAE_exp))\n",
    "print (np.mean(MSE_exp))"
   ]
  },
  {
   "cell_type": "markdown",
   "metadata": {},
   "source": [
    "Проведём тесты c ядром Matern32"
   ]
  },
  {
   "cell_type": "code",
   "execution_count": 21,
   "metadata": {},
   "outputs": [],
   "source": [
    "def test (f_name, k1, i1, m1):\n",
    "#k1 - количество тестов\n",
    "#i1 - количество точек в обучающей выборке\n",
    "#m1 - количество точек для подсчёта MAE, MSE\n",
    "    MAE_exp = []\n",
    "    MSE_exp = []\n",
    "    for k in range (k1):\n",
    "        a=[]\n",
    "        b=[]\n",
    "        for i in range (i1):\n",
    "            X = np.random.uniform (0,1,(1,1))\n",
    "            y = functionDoESpecial (X, f_name)\n",
    "            a=np.append (a,X)\n",
    "            b=np.append (b,y)\n",
    "\n",
    "        gp_x = a.reshape(a.shape[0], 1)\n",
    "        gp_y = b.reshape(b.shape[0], 1)\n",
    "        kern_1 = GPy.kern.Matern32(1)\n",
    "        model = GPy.models.GPRegression(gp_x, gp_y, kern_1)\n",
    "        model.optimize()\n",
    "        a=[]\n",
    "        b=[]\n",
    "        for i in range (m1):\n",
    "            X = np.random.uniform (0,1,(1,1))\n",
    "            y = functionDoESpecial (X, f_name)\n",
    "            a=np.append (a,X)\n",
    "            b=np.append (b,y)\n",
    "\n",
    "        gp_xx = a.reshape(a.shape[0], 1)\n",
    "        gp_yy=model.predict(gp_xx)\n",
    "        c=gp_yy[0]\n",
    "        MAE_exp=np.append(MAE_exp, MAE(b,c))\n",
    "        MSE_exp=np.append(MSE_exp, MSE(b,c))\n",
    "    return MAE_exp, MSE_exp"
   ]
  },
  {
   "cell_type": "code",
   "execution_count": 22,
   "metadata": {},
   "outputs": [
    {
     "name": "stderr",
     "output_type": "stream",
     "text": [
      " C:\\Users\\moroz\\Anaconda3\\lib\\site-packages\\GPy\\kern\\src\\stationary.py:454: RuntimeWarning:overflow encountered in multiply\n",
      " C:\\Users\\moroz\\Anaconda3\\lib\\site-packages\\GPy\\kern\\src\\stationary.py:454: RuntimeWarning:invalid value encountered in multiply\n",
      " C:\\Users\\moroz\\Anaconda3\\lib\\site-packages\\GPy\\kern\\src\\stationary.py:454: RuntimeWarning:overflow encountered in multiply\n",
      " C:\\Users\\moroz\\Anaconda3\\lib\\site-packages\\GPy\\kern\\src\\stationary.py:454: RuntimeWarning:invalid value encountered in multiply\n"
     ]
    }
   ],
   "source": [
    "#Посмотрим на MAE и MSE\n",
    "\n",
    "MSE_mt32 = []\n",
    "MAE_mt32 = []\n",
    "\n",
    "for f_name in function_names:\n",
    "    text = test (f_name, 100, 30,30)\n",
    "    MAE_exp = text[0]\n",
    "    MSE_exp = text[1]\n",
    "    MAE_exp_2=round(np.mean (MAE_exp),4)\n",
    "    MSE_exp_2=round(np.mean (MSE_exp),4)\n",
    "    MSE_mt32 = np.append (MSE_mt32,MSE_exp_2)\n",
    "    MAE_mt32 = np.append (MAE_mt32,MAE_exp_2)"
   ]
  },
  {
   "cell_type": "code",
   "execution_count": 23,
   "metadata": {},
   "outputs": [
    {
     "name": "stdout",
     "output_type": "stream",
     "text": [
      "[0.0000e+00 0.0000e+00 9.7638e+00 0.0000e+00 0.0000e+00 1.0000e-04\n",
      " 0.0000e+00 5.8712e+00]\n",
      "[0.0000e+00 8.0000e-04 1.5052e+00 7.0000e-04 1.0000e-03 1.6000e-03\n",
      " 5.0000e-04 7.0870e-01]\n"
     ]
    }
   ],
   "source": [
    "print (MSE_mt32)\n",
    "print (MAE_mt32)"
   ]
  },
  {
   "cell_type": "markdown",
   "metadata": {},
   "source": [
    "Проведём тесты c ядром Matern52"
   ]
  },
  {
   "cell_type": "code",
   "execution_count": 27,
   "metadata": {},
   "outputs": [],
   "source": [
    "def test (f_name, k1, i1, m1):\n",
    "#k1 - количество тестов\n",
    "#i1 - количество точек в обучающей выборке\n",
    "#m1 - количество точек для подсчёта MAE, MSE\n",
    "    MAE_exp = []\n",
    "    MSE_exp = []\n",
    "    for k in range (k1):\n",
    "        a=[]\n",
    "        b=[]\n",
    "        for i in range (i1):\n",
    "            X = np.random.uniform (0,1,(1,1))\n",
    "            y = functionDoESpecial (X, f_name)\n",
    "            a=np.append (a,X)\n",
    "            b=np.append (b,y)\n",
    "\n",
    "        gp_x = a.reshape(a.shape[0], 1)\n",
    "        gp_y = b.reshape(b.shape[0], 1)\n",
    "        kern_1 = GPy.kern.Matern52(1)\n",
    "        model = GPy.models.GPRegression(gp_x, gp_y, kern_1)\n",
    "        model.optimize()\n",
    "        a=[]\n",
    "        b=[]\n",
    "        for i in range (m1):\n",
    "            X = np.random.uniform (0,1,(1,1))\n",
    "            y = functionDoESpecial (X, f_name)\n",
    "            a=np.append (a,X)\n",
    "            b=np.append (b,y)\n",
    "\n",
    "        gp_xx = a.reshape(a.shape[0], 1)\n",
    "        gp_yy=model.predict(gp_xx)\n",
    "        c=gp_yy[0]\n",
    "        MAE_exp=np.append(MAE_exp, MAE(b,c))\n",
    "        MSE_exp=np.append(MSE_exp, MSE(b,c))\n",
    "    return MAE_exp, MSE_exp"
   ]
  },
  {
   "cell_type": "code",
   "execution_count": 28,
   "metadata": {},
   "outputs": [
    {
     "name": "stderr",
     "output_type": "stream",
     "text": [
      " C:\\Users\\moroz\\Anaconda3\\lib\\site-packages\\GPy\\kern\\src\\stationary.py:551: RuntimeWarning:overflow encountered in multiply\n",
      " C:\\Users\\moroz\\Anaconda3\\lib\\site-packages\\GPy\\kern\\src\\stationary.py:551: RuntimeWarning:overflow encountered in square\n",
      " C:\\Users\\moroz\\Anaconda3\\lib\\site-packages\\GPy\\kern\\src\\stationary.py:551: RuntimeWarning:invalid value encountered in multiply\n",
      " C:\\Users\\moroz\\Anaconda3\\lib\\site-packages\\GPy\\kern\\src\\stationary.py:551: RuntimeWarning:overflow encountered in square\n",
      " C:\\Users\\moroz\\Anaconda3\\lib\\site-packages\\GPy\\kern\\src\\stationary.py:551: RuntimeWarning:invalid value encountered in multiply\n",
      " C:\\Users\\moroz\\Anaconda3\\lib\\site-packages\\GPy\\kern\\src\\stationary.py:551: RuntimeWarning:overflow encountered in multiply\n",
      " C:\\Users\\moroz\\Anaconda3\\lib\\site-packages\\GPy\\kern\\src\\stationary.py:551: RuntimeWarning:overflow encountered in square\n",
      " C:\\Users\\moroz\\Anaconda3\\lib\\site-packages\\GPy\\kern\\src\\stationary.py:551: RuntimeWarning:invalid value encountered in multiply\n",
      " C:\\Users\\moroz\\Anaconda3\\lib\\site-packages\\GPy\\kern\\src\\stationary.py:551: RuntimeWarning:overflow encountered in multiply\n",
      " C:\\Users\\moroz\\Anaconda3\\lib\\site-packages\\GPy\\kern\\src\\stationary.py:551: RuntimeWarning:overflow encountered in square\n",
      " C:\\Users\\moroz\\Anaconda3\\lib\\site-packages\\GPy\\kern\\src\\stationary.py:551: RuntimeWarning:invalid value encountered in multiply\n",
      " C:\\Users\\moroz\\Anaconda3\\lib\\site-packages\\GPy\\kern\\src\\stationary.py:551: RuntimeWarning:overflow encountered in multiply\n",
      " C:\\Users\\moroz\\Anaconda3\\lib\\site-packages\\GPy\\kern\\src\\stationary.py:551: RuntimeWarning:overflow encountered in square\n",
      " C:\\Users\\moroz\\Anaconda3\\lib\\site-packages\\GPy\\kern\\src\\stationary.py:551: RuntimeWarning:invalid value encountered in multiply\n"
     ]
    }
   ],
   "source": [
    "#Посмотрим на MAE и MSE\n",
    "MSE_mt52 = []\n",
    "MAE_mt52 = []\n",
    "\n",
    "for f_name in function_names:\n",
    "    text = test (f_name, 100, 30,30)\n",
    "    MAE_exp = text[0]\n",
    "    MSE_exp = text[1]\n",
    "    MAE_exp_2=round(np.mean (MAE_exp),4)\n",
    "    MSE_exp_2=round(np.mean (MSE_exp),4)\n",
    "    MSE_mt52 = np.append (MSE_mt52,MSE_exp_2)\n",
    "    MAE_mt52 = np.append (MAE_mt52,MAE_exp_2)"
   ]
  },
  {
   "cell_type": "markdown",
   "metadata": {},
   "source": [
    "Проведём тесты с ядром PeriodicMatern32"
   ]
  },
  {
   "cell_type": "code",
   "execution_count": 24,
   "metadata": {},
   "outputs": [],
   "source": [
    "def test (f_name, k1, i1, m1):\n",
    "#k1 - количество тестов\n",
    "#i1 - количество точек в обучающей выборке\n",
    "#m1 - количество точек для подсчёта MAE, MSE\n",
    "    MAE_exp = []\n",
    "    MSE_exp = []\n",
    "    for k in range (k1):\n",
    "        a=[]\n",
    "        b=[]\n",
    "        for i in range (i1):\n",
    "            X = np.random.uniform (0,1,(1,1))\n",
    "            y = functionDoESpecial (X, f_name)\n",
    "            a=np.append (a,X)\n",
    "            b=np.append (b,y)\n",
    "\n",
    "        gp_x = a.reshape(a.shape[0], 1)\n",
    "        gp_y = b.reshape(b.shape[0], 1)\n",
    "        kern_1 = GPy.kern.PeriodicMatern32(1)\n",
    "        model = GPy.models.GPRegression(gp_x, gp_y, kern_1)\n",
    "        model.optimize()\n",
    "        a=[]\n",
    "        b=[]\n",
    "        for i in range (m1):\n",
    "            X = np.random.uniform (0,1,(1,1))\n",
    "            y = functionDoESpecial (X, f_name)\n",
    "            a=np.append (a,X)\n",
    "            b=np.append (b,y)\n",
    "\n",
    "        gp_xx = a.reshape(a.shape[0], 1)\n",
    "        gp_yy=model.predict(gp_xx)\n",
    "        c=gp_yy[0]\n",
    "        MAE_exp=np.append(MAE_exp, MAE(b,c))\n",
    "        MSE_exp=np.append(MSE_exp, MSE(b,c))\n",
    "    return MAE_exp, MSE_exp"
   ]
  },
  {
   "cell_type": "code",
   "execution_count": 25,
   "metadata": {},
   "outputs": [
    {
     "name": "stderr",
     "output_type": "stream",
     "text": [
      " C:\\Users\\moroz\\Anaconda3\\lib\\site-packages\\GPy\\util\\linalg.py:63: RuntimeWarning:invalid value encountered in less_equal\n",
      " C:\\Users\\moroz\\Anaconda3\\lib\\site-packages\\GPy\\kern\\src\\periodic.py:212: RuntimeWarning:overflow encountered in multiply\n",
      " C:\\Users\\moroz\\Anaconda3\\lib\\site-packages\\GPy\\util\\linalg.py:63: RuntimeWarning:invalid value encountered in less_equal\n",
      " C:\\Users\\moroz\\Anaconda3\\lib\\site-packages\\GPy\\kern\\src\\periodic.py:212: RuntimeWarning:invalid value encountered in multiply\n",
      " C:\\Users\\moroz\\Anaconda3\\lib\\site-packages\\GPy\\util\\linalg.py:63: RuntimeWarning:invalid value encountered in less_equal\n",
      " C:\\Users\\moroz\\Anaconda3\\lib\\site-packages\\GPy\\util\\linalg.py:63: RuntimeWarning:invalid value encountered in less_equal\n",
      " C:\\Users\\moroz\\Anaconda3\\lib\\site-packages\\GPy\\kern\\src\\periodic.py:212: RuntimeWarning:overflow encountered in multiply\n",
      " C:\\Users\\moroz\\Anaconda3\\lib\\site-packages\\GPy\\kern\\src\\periodic.py:212: RuntimeWarning:overflow encountered in add\n",
      " C:\\Users\\moroz\\Anaconda3\\lib\\site-packages\\GPy\\kern\\src\\periodic.py:212: RuntimeWarning:invalid value encountered in add\n",
      " C:\\Users\\moroz\\Anaconda3\\lib\\site-packages\\GPy\\util\\linalg.py:63: RuntimeWarning:invalid value encountered in less_equal\n",
      " C:\\Users\\moroz\\Anaconda3\\lib\\site-packages\\GPy\\kern\\src\\periodic.py:212: RuntimeWarning:overflow encountered in multiply\n",
      " C:\\Users\\moroz\\Anaconda3\\lib\\site-packages\\GPy\\util\\linalg.py:63: RuntimeWarning:invalid value encountered in less_equal\n",
      " C:\\Users\\moroz\\Anaconda3\\lib\\site-packages\\GPy\\kern\\src\\periodic.py:204: RuntimeWarning:overflow encountered in square\n",
      " C:\\Users\\moroz\\Anaconda3\\lib\\site-packages\\GPy\\util\\linalg.py:63: RuntimeWarning:invalid value encountered in less_equal\n",
      " C:\\Users\\moroz\\Anaconda3\\lib\\site-packages\\GPy\\kern\\src\\periodic.py:212: RuntimeWarning:overflow encountered in multiply\n",
      " C:\\Users\\moroz\\Anaconda3\\lib\\site-packages\\GPy\\kern\\src\\periodic.py:212: RuntimeWarning:overflow encountered in add\n",
      " C:\\Users\\moroz\\Anaconda3\\lib\\site-packages\\GPy\\util\\linalg.py:63: RuntimeWarning:invalid value encountered in less_equal\n",
      " C:\\Users\\moroz\\Anaconda3\\lib\\site-packages\\GPy\\kern\\src\\periodic.py:212: RuntimeWarning:overflow encountered in true_divide\n",
      " C:\\Users\\moroz\\Anaconda3\\lib\\site-packages\\GPy\\kern\\src\\periodic.py:212: RuntimeWarning:invalid value encountered in add\n",
      " C:\\Users\\moroz\\Anaconda3\\lib\\site-packages\\GPy\\util\\linalg.py:63: RuntimeWarning:invalid value encountered in less_equal\n",
      " C:\\Users\\moroz\\Anaconda3\\lib\\site-packages\\GPy\\kern\\src\\periodic.py:192: RuntimeWarning:divide by zero encountered in true_divide\n",
      " C:\\Users\\moroz\\Anaconda3\\lib\\site-packages\\GPy\\util\\linalg.py:63: RuntimeWarning:invalid value encountered in less_equal\n",
      " C:\\Users\\moroz\\Anaconda3\\lib\\site-packages\\GPy\\kern\\src\\periodic.py:192: RuntimeWarning:divide by zero encountered in true_divide\n",
      " C:\\Users\\moroz\\Anaconda3\\lib\\site-packages\\GPy\\kern\\src\\periodic.py:192: RuntimeWarning:overflow encountered in true_divide\n",
      " C:\\Users\\moroz\\Anaconda3\\lib\\site-packages\\GPy\\util\\linalg.py:63: RuntimeWarning:invalid value encountered in less_equal\n",
      " C:\\Users\\moroz\\Anaconda3\\lib\\site-packages\\GPy\\util\\linalg.py:63: RuntimeWarning:invalid value encountered in less_equal\n",
      " C:\\Users\\moroz\\Anaconda3\\lib\\site-packages\\GPy\\kern\\src\\periodic.py:212: RuntimeWarning:overflow encountered in multiply\n",
      " C:\\Users\\moroz\\Anaconda3\\lib\\site-packages\\GPy\\util\\linalg.py:63: RuntimeWarning:invalid value encountered in less_equal\n",
      " C:\\Users\\moroz\\Anaconda3\\lib\\site-packages\\GPy\\util\\linalg.py:63: RuntimeWarning:invalid value encountered in less_equal\n"
     ]
    }
   ],
   "source": [
    "#Посмотрим на MAE и MSE\n",
    "MSE_pmt32 = []\n",
    "MAE_pmt32 = []\n",
    "\n",
    "for f_name in function_names:\n",
    "    text = test (f_name, 100, 30,30)\n",
    "    MAE_exp = text[0]\n",
    "    MSE_exp = text[1]\n",
    "    MAE_exp_2=round(np.mean (MAE_exp),6)\n",
    "    MSE_exp_2=round(np.mean (MSE_exp),6)\n",
    "    MSE_pmt32 = np.append (MSE_pmt32,MSE_exp_2)\n",
    "    MAE_pmt32 = np.append (MAE_pmt32,MAE_exp_2)"
   ]
  },
  {
   "cell_type": "markdown",
   "metadata": {},
   "source": [
    "Теперь запишем полученные данные в таблицу\n",
    "exp = exponential\n",
    "mt32 = mattern32\n",
    "mt52 = mattern52\n",
    "pmt32 = periodic_mattern32"
   ]
  },
  {
   "cell_type": "code",
   "execution_count": 39,
   "metadata": {},
   "outputs": [
    {
     "data": {
      "text/html": [
       "<div>\n",
       "<style scoped>\n",
       "    .dataframe tbody tr th:only-of-type {\n",
       "        vertical-align: middle;\n",
       "    }\n",
       "\n",
       "    .dataframe tbody tr th {\n",
       "        vertical-align: top;\n",
       "    }\n",
       "\n",
       "    .dataframe thead th {\n",
       "        text-align: right;\n",
       "    }\n",
       "</style>\n",
       "<table border=\"1\" class=\"dataframe\">\n",
       "  <thead>\n",
       "    <tr style=\"text-align: right;\">\n",
       "      <th></th>\n",
       "      <th>Name</th>\n",
       "      <th>MSE_exp</th>\n",
       "      <th>MSE_mt32</th>\n",
       "      <th>MSE_mt52</th>\n",
       "      <th>MSE_pmt32</th>\n",
       "    </tr>\n",
       "  </thead>\n",
       "  <tbody>\n",
       "    <tr>\n",
       "      <th>0</th>\n",
       "      <td>rosenbrock</td>\n",
       "      <td>0.000000</td>\n",
       "      <td>0.0000</td>\n",
       "      <td>0.0000</td>\n",
       "      <td>0.000000</td>\n",
       "    </tr>\n",
       "    <tr>\n",
       "      <th>1</th>\n",
       "      <td>michalewicz</td>\n",
       "      <td>0.001000</td>\n",
       "      <td>0.0000</td>\n",
       "      <td>0.0002</td>\n",
       "      <td>0.000000</td>\n",
       "    </tr>\n",
       "    <tr>\n",
       "      <th>2</th>\n",
       "      <td>ackley1</td>\n",
       "      <td>1.005401</td>\n",
       "      <td>9.7638</td>\n",
       "      <td>21.6295</td>\n",
       "      <td>23.909874</td>\n",
       "    </tr>\n",
       "    <tr>\n",
       "      <th>3</th>\n",
       "      <td>gsobol</td>\n",
       "      <td>0.000071</td>\n",
       "      <td>0.0000</td>\n",
       "      <td>0.0000</td>\n",
       "      <td>0.000104</td>\n",
       "    </tr>\n",
       "    <tr>\n",
       "      <th>4</th>\n",
       "      <td>michalewicz5</td>\n",
       "      <td>0.000560</td>\n",
       "      <td>0.0000</td>\n",
       "      <td>0.0000</td>\n",
       "      <td>0.000000</td>\n",
       "    </tr>\n",
       "    <tr>\n",
       "      <th>5</th>\n",
       "      <td>sqmichalewicz5</td>\n",
       "      <td>0.000577</td>\n",
       "      <td>0.0001</td>\n",
       "      <td>0.0008</td>\n",
       "      <td>0.000003</td>\n",
       "    </tr>\n",
       "    <tr>\n",
       "      <th>6</th>\n",
       "      <td>Sinusoidal</td>\n",
       "      <td>0.001061</td>\n",
       "      <td>0.0000</td>\n",
       "      <td>0.0000</td>\n",
       "      <td>0.000000</td>\n",
       "    </tr>\n",
       "    <tr>\n",
       "      <th>7</th>\n",
       "      <td>Gramacy</td>\n",
       "      <td>2.816872</td>\n",
       "      <td>5.8712</td>\n",
       "      <td>3.3477</td>\n",
       "      <td>6.568724</td>\n",
       "    </tr>\n",
       "  </tbody>\n",
       "</table>\n",
       "</div>"
      ],
      "text/plain": [
       "             Name   MSE_exp  MSE_mt32  MSE_mt52  MSE_pmt32\n",
       "0      rosenbrock  0.000000    0.0000    0.0000   0.000000\n",
       "1     michalewicz  0.001000    0.0000    0.0002   0.000000\n",
       "2         ackley1  1.005401    9.7638   21.6295  23.909874\n",
       "3          gsobol  0.000071    0.0000    0.0000   0.000104\n",
       "4    michalewicz5  0.000560    0.0000    0.0000   0.000000\n",
       "5  sqmichalewicz5  0.000577    0.0001    0.0008   0.000003\n",
       "6      Sinusoidal  0.001061    0.0000    0.0000   0.000000\n",
       "7         Gramacy  2.816872    5.8712    3.3477   6.568724"
      ]
     },
     "execution_count": 39,
     "metadata": {},
     "output_type": "execute_result"
    }
   ],
   "source": [
    "d2 = {\"Name\": (function_names), \"MSE_exp\":(MSE_exp1), \"MSE_mt32\": (MSE_mt32), \"MSE_mt52\": (MSE_mt52),  \"MSE_pmt32\": (MSE_pmt32)}\n",
    "df = pd.DataFrame (d2)\n",
    "df"
   ]
  },
  {
   "cell_type": "code",
   "execution_count": 40,
   "metadata": {},
   "outputs": [
    {
     "data": {
      "text/html": [
       "<div>\n",
       "<style scoped>\n",
       "    .dataframe tbody tr th:only-of-type {\n",
       "        vertical-align: middle;\n",
       "    }\n",
       "\n",
       "    .dataframe tbody tr th {\n",
       "        vertical-align: top;\n",
       "    }\n",
       "\n",
       "    .dataframe thead th {\n",
       "        text-align: right;\n",
       "    }\n",
       "</style>\n",
       "<table border=\"1\" class=\"dataframe\">\n",
       "  <thead>\n",
       "    <tr style=\"text-align: right;\">\n",
       "      <th></th>\n",
       "      <th>Name</th>\n",
       "      <th>MAE_exp</th>\n",
       "      <th>MAE_mt32</th>\n",
       "      <th>MAE_mt52</th>\n",
       "      <th>MAE_pmt32</th>\n",
       "    </tr>\n",
       "  </thead>\n",
       "  <tbody>\n",
       "    <tr>\n",
       "      <th>0</th>\n",
       "      <td>rosenbrock</td>\n",
       "      <td>0.000000</td>\n",
       "      <td>0.0000</td>\n",
       "      <td>0.0000</td>\n",
       "      <td>0.000000</td>\n",
       "    </tr>\n",
       "    <tr>\n",
       "      <th>1</th>\n",
       "      <td>michalewicz</td>\n",
       "      <td>0.009322</td>\n",
       "      <td>0.0008</td>\n",
       "      <td>0.0013</td>\n",
       "      <td>0.000127</td>\n",
       "    </tr>\n",
       "    <tr>\n",
       "      <th>2</th>\n",
       "      <td>ackley1</td>\n",
       "      <td>0.304138</td>\n",
       "      <td>1.5052</td>\n",
       "      <td>3.3437</td>\n",
       "      <td>3.615562</td>\n",
       "    </tr>\n",
       "    <tr>\n",
       "      <th>3</th>\n",
       "      <td>gsobol</td>\n",
       "      <td>0.002230</td>\n",
       "      <td>0.0007</td>\n",
       "      <td>0.0010</td>\n",
       "      <td>0.005715</td>\n",
       "    </tr>\n",
       "    <tr>\n",
       "      <th>4</th>\n",
       "      <td>michalewicz5</td>\n",
       "      <td>0.007342</td>\n",
       "      <td>0.0010</td>\n",
       "      <td>0.0006</td>\n",
       "      <td>0.000114</td>\n",
       "    </tr>\n",
       "    <tr>\n",
       "      <th>5</th>\n",
       "      <td>sqmichalewicz5</td>\n",
       "      <td>0.008399</td>\n",
       "      <td>0.0016</td>\n",
       "      <td>0.0022</td>\n",
       "      <td>0.000292</td>\n",
       "    </tr>\n",
       "    <tr>\n",
       "      <th>6</th>\n",
       "      <td>Sinusoidal</td>\n",
       "      <td>0.009583</td>\n",
       "      <td>0.0005</td>\n",
       "      <td>0.0001</td>\n",
       "      <td>0.000011</td>\n",
       "    </tr>\n",
       "    <tr>\n",
       "      <th>7</th>\n",
       "      <td>Gramacy</td>\n",
       "      <td>0.548718</td>\n",
       "      <td>0.7087</td>\n",
       "      <td>0.4741</td>\n",
       "      <td>1.024781</td>\n",
       "    </tr>\n",
       "  </tbody>\n",
       "</table>\n",
       "</div>"
      ],
      "text/plain": [
       "             Name   MAE_exp  MAE_mt32  MAE_mt52  MAE_pmt32\n",
       "0      rosenbrock  0.000000    0.0000    0.0000   0.000000\n",
       "1     michalewicz  0.009322    0.0008    0.0013   0.000127\n",
       "2         ackley1  0.304138    1.5052    3.3437   3.615562\n",
       "3          gsobol  0.002230    0.0007    0.0010   0.005715\n",
       "4    michalewicz5  0.007342    0.0010    0.0006   0.000114\n",
       "5  sqmichalewicz5  0.008399    0.0016    0.0022   0.000292\n",
       "6      Sinusoidal  0.009583    0.0005    0.0001   0.000011\n",
       "7         Gramacy  0.548718    0.7087    0.4741   1.024781"
      ]
     },
     "execution_count": 40,
     "metadata": {},
     "output_type": "execute_result"
    }
   ],
   "source": [
    "d1 = {\"Name\": (function_names), \"MAE_exp\":(MAE_exp1), \"MAE_mt32\": (MAE_mt32), \"MAE_mt52\": (MAE_mt52),  \"MAE_pmt32\": (MAE_pmt32)}\n",
    "df1 = pd.DataFrame (d1)\n",
    "df1"
   ]
  },
  {
   "cell_type": "code",
   "execution_count": null,
   "metadata": {},
   "outputs": [],
   "source": []
  }
 ],
 "metadata": {
  "kernelspec": {
   "display_name": "Python 3",
   "language": "python",
   "name": "python3"
  },
  "language_info": {
   "codemirror_mode": {
    "name": "ipython",
    "version": 3
   },
   "file_extension": ".py",
   "mimetype": "text/x-python",
   "name": "python",
   "nbconvert_exporter": "python",
   "pygments_lexer": "ipython3",
   "version": "3.7.1"
  }
 },
 "nbformat": 4,
 "nbformat_minor": 2
}
